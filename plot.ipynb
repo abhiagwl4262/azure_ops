{
 "cells": [
  {
   "cell_type": "code",
   "execution_count": null,
   "metadata": {},
   "outputs": [],
   "source": [
    "import matplotlib.pyplot as plt\n",
    "import matplotlib.patches as patches\n",
    "from PIL import Image\n",
    "\n",
    "def plot_gt_on_image(image_path, gt_txt_path):\n",
    "    \"\"\"\n",
    "    Plots normalized ground truth bounding boxes on an image from a .txt file.\n",
    "\n",
    "    Parameters:\n",
    "    - image_path: Path to the image file.\n",
    "    - gt_txt_path: Path to the .txt file containing normalized ground truth bounding boxes.\n",
    "    \"\"\"\n",
    "    # Load the image to get its dimensions\n",
    "    img = Image.open(image_path)\n",
    "    img_width, img_height = img.size\n",
    "    img = plt.imread(image_path)\n",
    "\n",
    "    fig, ax = plt.subplots(1)\n",
    "    ax.imshow(img)\n",
    "\n",
    "    # Read ground truth bounding boxes from the .txt file and plot each box\n",
    "    with open(gt_txt_path, 'r') as gt_file:\n",
    "        for line in gt_file:\n",
    "            class_name, conf, x_min, y_min, width, height = line.strip().split(',')\n",
    "            if class_name != \"person\":\n",
    "                continue\n",
    "            x_min, y_min, width, height = map(float, [x_min, y_min, width, height])\n",
    "\n",
    "            # Convert normalized coordinates to pixel coordinates\n",
    "            x_min, width = x_min * img_width, width * img_width\n",
    "            y_min, height = y_min * img_height, height * img_height\n",
    "            x_max, y_max = x_min + width, y_min + height\n",
    "\n",
    "            # Plot a rectangle around the object\n",
    "            rect = patches.Rectangle((x_min, y_min), width, height, linewidth=2, edgecolor='r', facecolor='none', label=class_name)\n",
    "            ax.add_patch(rect)\n",
    "            # Add a text label near the bounding box for the class name\n",
    "            ax.text(x_min, y_min - 10, f\"{class_name[0]}/{round(float(conf),2)}\", color='white', fontsize=10, bbox=dict(facecolor='red', alpha=0.5, edgecolor='none'))\n",
    "\n",
    "    plt.axis('off')  # Optionally remove the axis for visual clarity\n",
    "    plt.show()"
   ]
  },
  {
   "cell_type": "code",
   "execution_count": null,
   "metadata": {},
   "outputs": [],
   "source": [
    "import os\n",
    "# img_dir = \"../latium_new/c2559586-ee30-f269-bb7e-35ca4212f9b9\"\n",
    "# pred_dir = \"latiumNew_imageAnalysisOutput/c2559586\"\n",
    "img_dir = \"../latium_new/d3ab119a-d383-e0da-ee0d-373f9a2526d2\"\n",
    "pred_dir = \"latiumNew_imageAnalysisOutput/d3ab119a\"\n",
    "for fname in os.listdir(img_dir):\n",
    "    img_path = os.path.join(img_dir, fname)\n",
    "    pred_path = os.path.join(pred_dir, fname.replace(\".jpg\", \".txt\"))\n",
    "    plot_gt_on_image(img_path, pred_path)"
   ]
  },
  {
   "cell_type": "code",
   "execution_count": null,
   "metadata": {},
   "outputs": [],
   "source": []
  }
 ],
 "metadata": {
  "kernelspec": {
   "display_name": "base",
   "language": "python",
   "name": "python3"
  },
  "language_info": {
   "codemirror_mode": {
    "name": "ipython",
    "version": 3
   },
   "file_extension": ".py",
   "mimetype": "text/x-python",
   "name": "python",
   "nbconvert_exporter": "python",
   "pygments_lexer": "ipython3",
   "version": "3.10.14"
  }
 },
 "nbformat": 4,
 "nbformat_minor": 2
}
