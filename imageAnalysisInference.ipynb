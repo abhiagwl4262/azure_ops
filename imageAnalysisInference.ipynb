{
 "cells": [
  {
   "cell_type": "code",
   "execution_count": null,
   "metadata": {},
   "outputs": [],
   "source": [
    "import http.client, urllib.request, urllib.parse, urllib.error, base64\n",
    "import os, json\n",
    "\n",
    "headers = {\n",
    "    # Request headers\n",
    "    \"Content-Type\": \"application/octet-stream\",\n",
    "    \"Ocp-Apim-Subscription-Key\": os.environ.get(\"OCP_APIM_SUBSCRIPTION_KEY\"),\n",
    "}\n",
    "\n",
    "\n",
    "# The path to your image file\n",
    "image_path = \"valid/Abee1_12_png.rf.3415fd50c0de26c1ad6e3c2fc391f47a.jpg\"\n",
    "\n",
    "# Read the image file in binary mode\n",
    "with open(image_path, \"rb\") as image_file:\n",
    "    image_data = image_file.read()\n",
    "\n",
    "params = urllib.parse.urlencode(\n",
    "    {\n",
    "        # Request parameters\n",
    "        \"model-name\": \"customv3\",\n",
    "    }\n",
    ")\n",
    "\n",
    "try:\n",
    "    conn = http.client.HTTPSConnection(\n",
    "        \"object-detection-v2.cognitiveservices.azure.com\"\n",
    "    )\n",
    "    conn.request(\n",
    "        \"POST\",\n",
    "        \"/computervision/imageanalysis:analyze?api-version=2023-02-01-preview&%s\"\n",
    "        % params,\n",
    "        image_data,\n",
    "        headers,\n",
    "    )\n",
    "    response = conn.getresponse()\n",
    "    data = response.read()\n",
    "\n",
    "    json_str = data.decode(\"utf-8\")\n",
    "    json_objs = json.loads(json_str)\n",
    "    with open(\"response.json\", \"w\") as fw:\n",
    "        fw.write(json.dumps(json_objs, indent=4))\n",
    "    print(json.dumps(json_objs, indent=4))\n",
    "    conn.close()\n",
    "except Exception as e:\n",
    "    print(\"[Errno {0}] {1}\".format(e.errno, e.strerror))"
   ]
  },
  {
   "cell_type": "code",
   "execution_count": null,
   "metadata": {},
   "outputs": [],
   "source": []
  }
 ],
 "metadata": {
  "kernelspec": {
   "display_name": "base",
   "language": "python",
   "name": "python3"
  },
  "language_info": {
   "codemirror_mode": {
    "name": "ipython",
    "version": 3
   },
   "file_extension": ".py",
   "mimetype": "text/x-python",
   "name": "python",
   "nbconvert_exporter": "python",
   "pygments_lexer": "ipython3",
   "version": "3.10.14"
  }
 },
 "nbformat": 4,
 "nbformat_minor": 2
}
