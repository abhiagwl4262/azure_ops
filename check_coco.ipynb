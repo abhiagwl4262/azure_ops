{
 "cells": [
  {
   "cell_type": "code",
   "execution_count": null,
   "metadata": {},
   "outputs": [],
   "source": [
    "!pip install cognitive-service-vision-model-customization-python-samples"
   ]
  },
  {
   "cell_type": "code",
   "execution_count": null,
   "metadata": {},
   "outputs": [],
   "source": [
    "from cognitive_service_vision_model_customization_python_samples import (\n",
    "    check_coco_annotation_file,\n",
    "    AnnotationKind,\n",
    "    Purpose,\n",
    ")\n",
    "import pathlib\n",
    "import json"
   ]
  },
  {
   "cell_type": "code",
   "execution_count": null,
   "metadata": {},
   "outputs": [],
   "source": [
    "coco_file_path = pathlib.Path(\"valid_new.json\")\n",
    "# annotation_kind = AnnotationKind.MULTICLASS_CLASSIFICATION # or AnnotationKind.OBJECT_DETECTION\n",
    "annotation_kind = AnnotationKind.OBJECT_DETECTION\n",
    "# purpose = Purpose.TRAINING # or Purpose.EVALUATION\n",
    "purpose = Purpose.EVALUATION\n",
    "\n",
    "check_coco_annotation_file(\n",
    "    json.loads(coco_file_path.read_text()), annotation_kind, purpose\n",
    ")\n",
    "print(\"Data validation passed.\")"
   ]
  },
  {
   "cell_type": "code",
   "execution_count": null,
   "metadata": {},
   "outputs": [],
   "source": [
    "coco_file_path = pathlib.Path(\"train_new.json\")\n",
    "# annotation_kind = AnnotationKind.MULTICLASS_CLASSIFICATION # or AnnotationKind.OBJECT_DETECTION\n",
    "annotation_kind = AnnotationKind.OBJECT_DETECTION\n",
    "# purpose = Purpose.TRAINING # or Purpose.EVALUATION\n",
    "purpose = Purpose.EVALUATION\n",
    "\n",
    "check_coco_annotation_file(\n",
    "    json.loads(coco_file_path.read_text()), annotation_kind, purpose\n",
    ")\n",
    "print(\"Data validation passed.\")"
   ]
  }
 ],
 "metadata": {
  "kernelspec": {
   "display_name": "azure",
   "language": "python",
   "name": "python3"
  },
  "language_info": {
   "codemirror_mode": {
    "name": "ipython",
    "version": 3
   },
   "file_extension": ".py",
   "mimetype": "text/x-python",
   "name": "python",
   "nbconvert_exporter": "python",
   "pygments_lexer": "ipython3",
   "version": "3.10.14"
  }
 },
 "nbformat": 4,
 "nbformat_minor": 2
}
