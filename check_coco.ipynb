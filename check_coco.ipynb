{
 "cells": [
  {
   "cell_type": "code",
   "execution_count": 7,
   "metadata": {},
   "outputs": [],
   "source": [
    "from cognitive_service_vision_model_customization_python_samples import check_coco_annotation_file, AnnotationKind, Purpose\n",
    "import pathlib\n",
    "import json"
   ]
  },
  {
   "cell_type": "code",
   "execution_count": 8,
   "metadata": {},
   "outputs": [
    {
     "name": "stderr",
     "output_type": "stream",
     "text": [
      "Checking \"images...\": 100%|██████████| 9/9 [00:00<00:00, 69775.85it/s]\n",
      "Checking \"categories...\": 100%|██████████| 2/2 [00:00<00:00, 28926.23it/s]\n",
      "Checking \"annotations\"...: 100%|██████████| 14/14 [00:00<00:00, 59614.47it/s]"
     ]
    },
    {
     "name": "stdout",
     "output_type": "stream",
     "text": [
      "category stats {1: 10, 2: 4}.\n",
      "Data validation passed.\n"
     ]
    },
    {
     "name": "stderr",
     "output_type": "stream",
     "text": [
      "\n"
     ]
    }
   ],
   "source": [
    "coco_file_path = pathlib.Path(\"val_new.json\")\n",
    "# annotation_kind = AnnotationKind.MULTICLASS_CLASSIFICATION # or AnnotationKind.OBJECT_DETECTION\n",
    "annotation_kind = AnnotationKind.OBJECT_DETECTION\n",
    "# purpose = Purpose.TRAINING # or Purpose.EVALUATION\n",
    "purpose = Purpose.EVALUATION\n",
    "\n",
    "check_coco_annotation_file(json.loads(coco_file_path.read_text()), annotation_kind, purpose)\n",
    "print(\"Data validation passed.\")"
   ]
  },
  {
   "cell_type": "code",
   "execution_count": 9,
   "metadata": {},
   "outputs": [
    {
     "name": "stderr",
     "output_type": "stream",
     "text": [
      "Checking \"images...\": 100%|██████████| 113/113 [00:00<00:00, 137978.56it/s]\n",
      "Checking \"categories...\": 100%|██████████| 2/2 [00:00<00:00, 28149.69it/s]\n",
      "Checking \"annotations\"...: 100%|██████████| 384/384 [00:00<00:00, 86096.79it/s]"
     ]
    },
    {
     "name": "stdout",
     "output_type": "stream",
     "text": [
      "category stats {2: 143, 1: 241}.\n",
      "Data validation passed.\n"
     ]
    },
    {
     "name": "stderr",
     "output_type": "stream",
     "text": [
      "\n"
     ]
    }
   ],
   "source": [
    "coco_file_path = pathlib.Path(\"train_new.json\")\n",
    "# annotation_kind = AnnotationKind.MULTICLASS_CLASSIFICATION # or AnnotationKind.OBJECT_DETECTION\n",
    "annotation_kind = AnnotationKind.OBJECT_DETECTION\n",
    "# purpose = Purpose.TRAINING # or Purpose.EVALUATION\n",
    "purpose = Purpose.EVALUATION\n",
    "\n",
    "check_coco_annotation_file(json.loads(coco_file_path.read_text()), annotation_kind, purpose)\n",
    "print(\"Data validation passed.\")"
   ]
  }
 ],
 "metadata": {
  "kernelspec": {
   "display_name": "azure",
   "language": "python",
   "name": "python3"
  },
  "language_info": {
   "codemirror_mode": {
    "name": "ipython",
    "version": 3
   },
   "file_extension": ".py",
   "mimetype": "text/x-python",
   "name": "python",
   "nbconvert_exporter": "python",
   "pygments_lexer": "ipython3",
   "version": "3.10.14"
  }
 },
 "nbformat": 4,
 "nbformat_minor": 2
}
