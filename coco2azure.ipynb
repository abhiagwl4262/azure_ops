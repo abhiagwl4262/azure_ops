{
 "cells": [
  {
   "cell_type": "code",
   "execution_count": 16,
   "metadata": {},
   "outputs": [],
   "source": [
    "import os\n",
    "import json"
   ]
  },
  {
   "cell_type": "code",
   "execution_count": 17,
   "metadata": {},
   "outputs": [],
   "source": [
    "def normalize_bbox(ann_path, out_path, coco_url_prefix):\n",
    "    f =open(ann_path)\n",
    "    data = json.load(f)\n",
    "    img_id_dict = {}\n",
    "    for img_dict in data[\"images\"]:\n",
    "        img_dict[\"id\"]+=1 #image_id should start from 1\n",
    "        img_id_dict[img_dict[\"id\"]] = img_dict\n",
    "        img_dict[\"coco_url\"] = os.path.join(coco_url_prefix, img_dict[\"file_name\"])\n",
    "    \n",
    "    for ann in data[\"annotations\"]:\n",
    "        ann[\"image_id\"] +=1 #image_id should start from 1\n",
    "        ann[\"id\"] +=1 #annotation_id should start from 1\n",
    "        img_w = img_id_dict[ann[\"image_id\"]][\"width\"]\n",
    "        img_h = img_id_dict[ann[\"image_id\"]][\"height\"]\n",
    "        \n",
    "        #taking care of cases in which because of the fraction coordinate going out of bound\n",
    "        ann[\"bbox\"][2] = ann[\"bbox\"][2]-1  \n",
    "        ann[\"bbox\"][3] = ann[\"bbox\"][3]-1\n",
    "\n",
    "        ann[\"bbox\"][0] = ann[\"bbox\"][0]/float(img_w)\n",
    "        ann[\"bbox\"][1] = ann[\"bbox\"][1]/float(img_h)\n",
    "        ann[\"bbox\"][2] = ann[\"bbox\"][2]/float(img_w)\n",
    "        ann[\"bbox\"][3] = ann[\"bbox\"][3]/float(img_h)\n",
    "\n",
    "        ann[\"area\"] = ann[\"area\"]/float(img_w*img_h)\n",
    "    \n",
    "    with open(out_path, \"w\") as f:\n",
    "        json.dump(data, f)"
   ]
  },
  {
   "cell_type": "code",
   "execution_count": 18,
   "metadata": {},
   "outputs": [],
   "source": [
    "normalize_bbox(\"train.json\", \"train_new.json\", coco_url_prefix=\"https://ltaidev01.blob.core.windows.net/object-detection/datav2/train/\")\n",
    "normalize_bbox(\"valid.json\", \"valid_new.json\", coco_url_prefix=\"https://ltaidev01.blob.core.windows.net/object-detection/datav2/valid/\")"
   ]
  }
 ],
 "metadata": {
  "kernelspec": {
   "display_name": "report_data_ext",
   "language": "python",
   "name": "python3"
  },
  "language_info": {
   "codemirror_mode": {
    "name": "ipython",
    "version": 3
   },
   "file_extension": ".py",
   "mimetype": "text/x-python",
   "name": "python",
   "nbconvert_exporter": "python",
   "pygments_lexer": "ipython3",
   "version": "3.10.14"
  }
 },
 "nbformat": 4,
 "nbformat_minor": 2
}
