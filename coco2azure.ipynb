{
 "cells": [
  {
   "cell_type": "code",
   "execution_count": 14,
   "metadata": {},
   "outputs": [],
   "source": [
    "import json"
   ]
  },
  {
   "cell_type": "code",
   "execution_count": 15,
   "metadata": {},
   "outputs": [],
   "source": [
    "def normalize_bbox(ann_path, out_path):\n",
    "    f =open(ann_path)\n",
    "    data = json.load(f)\n",
    "    img_id_dict = {}\n",
    "    for img_dict in data[\"images\"]:\n",
    "        img_id_dict[img_dict[\"id\"]] = img_dict\n",
    "    \n",
    "    for ann in data[\"annotations\"]:\n",
    "        img_w = img_id_dict[ann[\"image_id\"]][\"width\"]\n",
    "        img_h = img_id_dict[ann[\"image_id\"]][\"height\"]\n",
    "\n",
    "        ann[\"bbox\"][0] = ann[\"bbox\"][0]/float(img_w)\n",
    "        ann[\"bbox\"][1] = ann[\"bbox\"][1]/float(img_h)\n",
    "        ann[\"bbox\"][2] = ann[\"bbox\"][2]/float(img_w)\n",
    "        ann[\"bbox\"][3] = ann[\"bbox\"][3]/float(img_h)\n",
    "\n",
    "        ann[\"area\"] = ann[\"area\"]/float(img_w*img_h)\n",
    "    \n",
    "    with open(out_path, \"w\") as f:\n",
    "        json.dump(data, f)"
   ]
  },
  {
   "cell_type": "code",
   "execution_count": 16,
   "metadata": {},
   "outputs": [],
   "source": [
    "normalize_bbox(\"train.json\", \"train_new.json\")\n",
    "normalize_bbox(\"val.json\", \"val_new.json\")"
   ]
  }
 ],
 "metadata": {
  "kernelspec": {
   "display_name": "report_data_ext",
   "language": "python",
   "name": "python3"
  },
  "language_info": {
   "codemirror_mode": {
    "name": "ipython",
    "version": 3
   },
   "file_extension": ".py",
   "mimetype": "text/x-python",
   "name": "python",
   "nbconvert_exporter": "python",
   "pygments_lexer": "ipython3",
   "version": "3.10.13"
  }
 },
 "nbformat": 4,
 "nbformat_minor": 2
}
